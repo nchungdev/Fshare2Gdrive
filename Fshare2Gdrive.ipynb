{
  "cells": [
    {
      "cell_type": "markdown",
      "metadata": {
        "id": "view-in-github",
        "colab_type": "text"
      },
      "source": [
        "<a href=\"https://colab.research.google.com/github/nchungdev/Fshare2Gdrive/blob/master/Fshare2Gdrive.ipynb\" target=\"_parent\"><img src=\"https://colab.research.google.com/assets/colab-badge.svg\" alt=\"Open In Colab\"/></a>"
      ]
    },
    {
      "cell_type": "code",
      "execution_count": null,
      "metadata": {
        "id": "j0BoSib5Wi9n"
      },
      "outputs": [],
      "source": [
        "!git clone https://github.com/nchungdev/fshare2drive\n",
        "!cd fshare2drive\n",
        "!mv -v fshare2drive/* .\n",
        "!rm -r fshare2drive\n",
        "!mv config.ini.example config.ini\n",
        "!pip3 install -r requirements.txt\n",
        "!python3 fetch_auth_info.py"
      ]
    },
    {
      "cell_type": "code",
      "source": [
        "from google.colab import drive\n",
        "drive.mount('/content/drive', force_remount=True)"
      ],
      "metadata": {
        "colab": {
          "base_uri": "https://localhost:8080/"
        },
        "id": "ZVfuyXj_KvNY",
        "outputId": "c98bf6b4-b86f-45ce-9973-8d1fce8ab33f"
      },
      "execution_count": null,
      "outputs": [
        {
          "output_type": "stream",
          "name": "stdout",
          "text": [
            "Mounted at /content/drive\n"
          ]
        }
      ]
    },
    {
      "cell_type": "code",
      "execution_count": null,
      "metadata": {
        "id": "GXCuWVLaIvit"
      },
      "outputs": [],
      "source": [
        "!python3 fetch_auth_info.py"
      ]
    },
    {
      "cell_type": "code",
      "source": [
        "# Dragon Ball 1986\n",
        "# !python3 download.py https://www.fshare.vn/folder/WVBN39N92AZS\n",
        "# Dragon Ball GT\n",
        "# !python3 download.py https://www.fshare.vn/folder/E32P6E8M6ONW\n",
        "# Dragon Ball Kai 2009\n",
        "# !python3 download.py https://www.fshare.vn/folder/3GQ3YCG2KGAR\n",
        "# Dragon Ball Kai 2014\n",
        "# !python3 download.py https://www.fshare.vn/folder/U5THNKM4FHY2\n",
        "# Dragon Ball Super 2015\n",
        "!python3 download.py https://www.fshare.vn/folder/KM8WM5LACLM5\n",
        "\n"
      ],
      "metadata": {
        "id": "tTv02SqNhLmh"
      },
      "execution_count": null,
      "outputs": []
    },
    {
      "cell_type": "code",
      "source": [
        "!python3 download.py https://www.fshare.vn/file/X6RZH3PZO22SLAB"
      ],
      "metadata": {
        "colab": {
          "base_uri": "https://localhost:8080/"
        },
        "id": "bksGz0uWNMG4",
        "outputId": "3e38e6cf-8769-4434-a8db-ff6ed2a49df0"
      },
      "execution_count": null,
      "outputs": [
        {
          "output_type": "stream",
          "name": "stdout",
          "text": [
            "------------------------\n",
            "┌──────────────────────┐\n",
            "|    LOGIN TO FSHARE   |\n",
            "└──────────────────────┘\n",
            "--------> Starting <--------\n",
            "--------> Success <--------\n",
            "\u001b[1;1H\n",
            "\u001b[K5 MiB [00:01, 6.12 MiB/s]\u001b[1;1H\u001b[1;1H-> Completed: 1/1\n",
            "\u001b[1;0r\u001b[1;1H\n"
          ]
        }
      ]
    }
  ],
  "metadata": {
    "accelerator": "TPU",
    "colab": {
      "provenance": [],
      "toc_visible": true,
      "include_colab_link": true
    },
    "kernelspec": {
      "display_name": "Python 3",
      "name": "python3"
    },
    "language_info": {
      "name": "python"
    }
  },
  "nbformat": 4,
  "nbformat_minor": 0
}